{
 "cells": [
  {
   "cell_type": "markdown",
   "metadata": {},
   "source": [
    "# Python supports \n",
    "- Functional programming \n",
    "- Procedural Programming \n",
    "- Object oriented programming"
   ]
  },
  {
   "cell_type": "markdown",
   "metadata": {},
   "source": [
    "# Object Oriented Programming\n",
    "- Big enterprise\n",
    "- Big software company\n",
    "- Every object has attribute and behaviour \n",
    "- Functions in Object oriented programming are called methods \n",
    "- Class is Design/Blueprint , and Object is real stuff(Motorola-Design , Hardware phone-Object)"
   ]
  },
  {
   "cell_type": "code",
   "execution_count": 1,
   "metadata": {},
   "outputs": [],
   "source": [
    "class Computer:  #Dont use inbuilt class name \n",
    "    def config(self):\n",
    "        print('i5','9th','Gen')\n",
    "\n",
    "com1 = Computer()\n",
    "com2 =Computer()  #This is to tell that this object has class Computer"
   ]
  },
  {
   "cell_type": "code",
   "execution_count": 7,
   "metadata": {},
   "outputs": [],
   "source": [
    "#Computer.config(com1) #The one whose property you want to see call by name \n",
    "#Computer.config(com2) #These are kind of constructor ,gives you object of Class/Computer"
   ]
  },
  {
   "cell_type": "code",
   "execution_count": 6,
   "metadata": {},
   "outputs": [
    {
     "name": "stdout",
     "output_type": "stream",
     "text": [
      "i5 9th Gen\n",
      "i5 9th Gen\n"
     ]
    }
   ],
   "source": [
    "com1.config() #Passing this to self\n",
    "com2.config()"
   ]
  },
  {
   "cell_type": "code",
   "execution_count": 8,
   "metadata": {},
   "outputs": [
    {
     "name": "stdout",
     "output_type": "stream",
     "text": [
      "<class '__main__.Computer'>\n"
     ]
    }
   ],
   "source": [
    "print(type(com1)) #This belongs to class Computer , running from main"
   ]
  },
  {
   "cell_type": "code",
   "execution_count": 9,
   "metadata": {},
   "outputs": [
    {
     "name": "stdout",
     "output_type": "stream",
     "text": [
      "<class 'str'>\n"
     ]
    }
   ],
   "source": [
    "print(type('8'))"
   ]
  },
  {
   "cell_type": "code",
   "execution_count": null,
   "metadata": {},
   "outputs": [],
   "source": [
    "# have some variables the type of CPU (i3,etc)and amount of RAM (8)\n",
    "# Special methods and special variables "
   ]
  },
  {
   "cell_type": "code",
   "execution_count": 2,
   "metadata": {},
   "outputs": [
    {
     "data": {
      "text/plain": [
       "3"
      ]
     },
     "execution_count": 2,
     "metadata": {},
     "output_type": "execute_result"
    }
   ],
   "source": [
    "a=5 \n",
    "a.bit_length()"
   ]
  },
  {
   "cell_type": "markdown",
   "metadata": {},
   "source": [
    "- Special variable __name__ , Special method __init__\n",
    "- Object \n",
    "- Class \n",
    "- Self \n",
    "- init "
   ]
  },
  {
   "cell_type": "code",
   "execution_count": 6,
   "metadata": {},
   "outputs": [
    {
     "name": "stdout",
     "output_type": "stream",
     "text": [
      "Keep working\n"
     ]
    }
   ],
   "source": [
    "class Computer:  #Dont use inbuilt class name \n",
    "    \n",
    "    def __init__(self):             #This will be called automatically , no need to call this method\n",
    "         print(\"Keep working\")\n",
    "    \n",
    "    def config(self):\n",
    "        print('i5','9th','Gen')\n",
    "\n",
    "com1 = Computer()\n",
    "com2 = Computer()  #This is to tell that this object has class Computer\n"
   ]
  },
  {
   "cell_type": "code",
   "execution_count": 20,
   "metadata": {},
   "outputs": [
    {
     "name": "stdout",
     "output_type": "stream",
     "text": [
      "Coding config is i5 8\n"
     ]
    }
   ],
   "source": [
    "class Computer:  #Dont use inbuilt class name \n",
    "    \n",
    "    def __init__(self,CPU,RAM):\n",
    "        self.CPU=CPU\n",
    "        self.RAM=RAM\n",
    "                              #This will be called automatically , no need to call this metho\n",
    "    def config(self):\n",
    "        print(\"Coding config is\",self.CPU , self.RAM)\n",
    "\n",
    "com1 = Computer('i5',8)\n",
    "com1.config()"
   ]
  },
  {
   "cell_type": "markdown",
   "metadata": {},
   "source": [
    "# Constructor ,Self and Comparing objects in Python "
   ]
  },
  {
   "cell_type": "code",
   "execution_count": 26,
   "metadata": {},
   "outputs": [
    {
     "name": "stdout",
     "output_type": "stream",
     "text": [
      "2134394043272\n"
     ]
    }
   ],
   "source": [
    "class Computer: #Design\n",
    "    pass\n",
    "   \n",
    "c1=Computer()    #object , this takes some space heao memory\n",
    "print(id(c1)) # This is to print the address of the object"
   ]
  },
  {
   "cell_type": "code",
   "execution_count": 34,
   "metadata": {},
   "outputs": [],
   "source": [
    "class Computer:  #Dont use inbuilt class name \n",
    "    \n",
    "    def __init__(self):\n",
    "        self.age=28\n",
    "        \n",
    "                              #This will be called automatically , no need to call this metho\n",
    "    def compare(self,other):\n",
    "        if self.age==other.age:\n",
    "            return True\n",
    "        else:\n",
    "            return False\n",
    "\n",
    "\n",
    "c1=Computer()\n",
    "c2=Computer()\n",
    "c2.age=30"
   ]
  },
  {
   "cell_type": "code",
   "execution_count": 35,
   "metadata": {},
   "outputs": [
    {
     "data": {
      "text/plain": [
       "False"
      ]
     },
     "execution_count": 35,
     "metadata": {},
     "output_type": "execute_result"
    }
   ],
   "source": [
    "c1.compare(c2)"
   ]
  },
  {
   "cell_type": "markdown",
   "metadata": {},
   "source": [
    "# Types of variable \n",
    "- Instance variable \n",
    "- Class static variable"
   ]
  },
  {
   "cell_type": "code",
   "execution_count": 40,
   "metadata": {},
   "outputs": [
    {
     "data": {
      "text/plain": [
       "'Kumar'"
      ]
     },
     "execution_count": 40,
     "metadata": {},
     "output_type": "execute_result"
    }
   ],
   "source": [
    "class Computer:  #Dont use inbuilt class name \n",
    "    \n",
    "    name =\"Gaurav\"  #Class namespace\n",
    "    def __init__(self):\n",
    "        self.age=28           #instance namespace\n",
    "        \n",
    "                              #This will be called automatically , no need to call this metho\n",
    "    def compare(self,other):\n",
    "        if self.age==other.age:\n",
    "            return True\n",
    "        else:\n",
    "            return False\n",
    "Computer.name=\"Kumar\" # Class namespace , Class variable shared with all object\n",
    "                      # namespace where object stored \n",
    "\n",
    "c1=Computer()\n",
    "c2=Computer()\n",
    "c2.name"
   ]
  },
  {
   "cell_type": "markdown",
   "metadata": {},
   "source": [
    "# Types of Methods in Python "
   ]
  },
  {
   "cell_type": "code",
   "execution_count": 41,
   "metadata": {},
   "outputs": [],
   "source": [
    "#Instance Method \n",
    "#Class Method \n",
    "#Static Method"
   ]
  },
  {
   "cell_type": "code",
   "execution_count": 44,
   "metadata": {},
   "outputs": [],
   "source": [
    "class Student():\n",
    "    \n",
    "    school=\"RLB\"  #This is the class variable \n",
    "    \n",
    "    def __init__(self,m1,m2,m3):    #These two are instance method having instance variable \n",
    "        self.m1=m1\n",
    "        self.m2=m2\n",
    "        self.m3=m3\n",
    "    \n",
    "    def avg(self):        #This is for average\n",
    "        return (self.m1+self.m2+self.m3)/3\n",
    "    \n",
    "    @classmethod        #Instead of self you have to write cls for class , think about class variable\n",
    "    def check(cls):\n",
    "        return cls.school\n",
    "    \n",
    "    @staticmethod    #This is something extra with class and nothing to do with variable \n",
    "    def info():\n",
    "        print(\"My name is Gaurav Kumar\")"
   ]
  },
  {
   "cell_type": "code",
   "execution_count": 47,
   "metadata": {},
   "outputs": [],
   "source": [
    "s1=Student(45,56,88)"
   ]
  },
  {
   "cell_type": "code",
   "execution_count": 49,
   "metadata": {},
   "outputs": [
    {
     "name": "stdout",
     "output_type": "stream",
     "text": [
      "My name is Gaurav Kumar\n"
     ]
    }
   ],
   "source": [
    "s1.info()"
   ]
  },
  {
   "cell_type": "code",
   "execution_count": 50,
   "metadata": {},
   "outputs": [
    {
     "data": {
      "text/plain": [
       "63.0"
      ]
     },
     "execution_count": 50,
     "metadata": {},
     "output_type": "execute_result"
    }
   ],
   "source": [
    "s1.avg()"
   ]
  },
  {
   "cell_type": "code",
   "execution_count": 51,
   "metadata": {},
   "outputs": [
    {
     "data": {
      "text/plain": [
       "'RLB'"
      ]
     },
     "execution_count": 51,
     "metadata": {},
     "output_type": "execute_result"
    }
   ],
   "source": [
    "s1.check()"
   ]
  },
  {
   "cell_type": "code",
   "execution_count": 54,
   "metadata": {},
   "outputs": [
    {
     "data": {
      "text/plain": [
       "63.0"
      ]
     },
     "execution_count": 54,
     "metadata": {},
     "output_type": "execute_result"
    }
   ],
   "source": [
    "s1.avg()"
   ]
  },
  {
   "cell_type": "markdown",
   "metadata": {},
   "source": [
    "# This is creating class with in a class"
   ]
  },
  {
   "cell_type": "code",
   "execution_count": 73,
   "metadata": {},
   "outputs": [],
   "source": [
    "class student:\n",
    "    def __init__(self,name,rollno):\n",
    "        self.name=name \n",
    "        self.rollno = rollno\n",
    "        self.lap=self.Laptop()\n",
    "        \n",
    "    def show(self):\n",
    "        print(self.name,self.rollno)\n",
    "        \n",
    "    class Laptop:\n",
    "        \n",
    "        def __init__(self):\n",
    "            self.brand ='HP'\n",
    "            self.cpu='i5'\n"
   ]
  },
  {
   "cell_type": "code",
   "execution_count": 60,
   "metadata": {},
   "outputs": [],
   "source": [
    "s1= student('Gaurav',19200485)"
   ]
  },
  {
   "cell_type": "code",
   "execution_count": 62,
   "metadata": {},
   "outputs": [
    {
     "data": {
      "text/plain": [
       "'Gaurav'"
      ]
     },
     "execution_count": 62,
     "metadata": {},
     "output_type": "execute_result"
    }
   ],
   "source": [
    "s1.name"
   ]
  },
  {
   "cell_type": "code",
   "execution_count": 63,
   "metadata": {},
   "outputs": [
    {
     "data": {
      "text/plain": [
       "19200485"
      ]
     },
     "execution_count": 63,
     "metadata": {},
     "output_type": "execute_result"
    }
   ],
   "source": [
    "s1.rollno"
   ]
  },
  {
   "cell_type": "code",
   "execution_count": 75,
   "metadata": {},
   "outputs": [],
   "source": [
    "S1=student.Laptop() #Because this inner class belong to the outer class"
   ]
  },
  {
   "cell_type": "code",
   "execution_count": 76,
   "metadata": {},
   "outputs": [
    {
     "data": {
      "text/plain": [
       "'HP'"
      ]
     },
     "execution_count": 76,
     "metadata": {},
     "output_type": "execute_result"
    }
   ],
   "source": [
    "S1.brand"
   ]
  },
  {
   "cell_type": "markdown",
   "metadata": {},
   "source": [
    "- You can create object of inner class inside the outer class\n",
    "- You can create object of inner class outisde the outer class provided you use outer class name to call it"
   ]
  },
  {
   "cell_type": "code",
   "execution_count": 1,
   "metadata": {},
   "outputs": [],
   "source": [
    "class student:\n",
    "    def __init__(self,name,rollno):\n",
    "        self.name=name \n",
    "        self.rollno = rollno\n",
    "        self.lap=self.Laptop()\n",
    "        \n",
    "    def show(self):\n",
    "        print(self.name,self.rollno)\n",
    "        self.lap.show()\n",
    "        \n",
    "    class Laptop:\n",
    "        \n",
    "        def __init__(self):\n",
    "            self.brand ='HP'\n",
    "            self.cpu='i5'\n",
    "        \n",
    "        def show(self):\n",
    "            print(self.brand,self.cpu)\n",
    "            \n"
   ]
  },
  {
   "cell_type": "code",
   "execution_count": 2,
   "metadata": {},
   "outputs": [],
   "source": [
    "c1=student.Laptop()"
   ]
  },
  {
   "cell_type": "code",
   "execution_count": 4,
   "metadata": {},
   "outputs": [
    {
     "name": "stdout",
     "output_type": "stream",
     "text": [
      "HP i5\n"
     ]
    }
   ],
   "source": [
    "c1.show()"
   ]
  },
  {
   "cell_type": "code",
   "execution_count": 6,
   "metadata": {},
   "outputs": [],
   "source": [
    "d1=student('Gaurav',45)"
   ]
  },
  {
   "cell_type": "code",
   "execution_count": 9,
   "metadata": {},
   "outputs": [
    {
     "data": {
      "text/plain": [
       "'HP'"
      ]
     },
     "execution_count": 9,
     "metadata": {},
     "output_type": "execute_result"
    }
   ],
   "source": [
    "d1.lap.brand"
   ]
  },
  {
   "cell_type": "code",
   "execution_count": 10,
   "metadata": {},
   "outputs": [
    {
     "name": "stdout",
     "output_type": "stream",
     "text": [
      "HP i5\n"
     ]
    }
   ],
   "source": [
    "d1.lap.show()"
   ]
  },
  {
   "cell_type": "markdown",
   "metadata": {},
   "source": [
    "# Inheritance in Python \n",
    "- Parents house is your house , and your house is your house , that is what we say inheritance"
   ]
  },
  {
   "cell_type": "code",
   "execution_count": 24,
   "metadata": {},
   "outputs": [],
   "source": [
    "#This is called single level inheritance \n",
    "\n",
    "class A:\n",
    "    def feature1(self):\n",
    "        print(\"Feature 1 working\")\n",
    "    \n",
    "    def feature2(self):\n",
    "        print(\"Feature 2 working\")\n",
    "        \n",
    "class B(A):                      #Subclass B  and super class A \n",
    "    def feature3(self):\n",
    "        print(\"Feature 3 working\")\n",
    "        \n",
    "    def feature4(self):\n",
    "        print(\"Feature 4 working\")\n"
   ]
  },
  {
   "cell_type": "code",
   "execution_count": 29,
   "metadata": {},
   "outputs": [],
   "source": [
    "a1=A()"
   ]
  },
  {
   "cell_type": "code",
   "execution_count": 17,
   "metadata": {},
   "outputs": [
    {
     "name": "stdout",
     "output_type": "stream",
     "text": [
      "Feature 1 working\n",
      "Feature 2 working\n"
     ]
    }
   ],
   "source": [
    "a1.feature1()\n",
    "a1.feature2()"
   ]
  },
  {
   "cell_type": "code",
   "execution_count": 25,
   "metadata": {},
   "outputs": [],
   "source": [
    "check=B()"
   ]
  },
  {
   "cell_type": "code",
   "execution_count": 22,
   "metadata": {},
   "outputs": [
    {
     "name": "stdout",
     "output_type": "stream",
     "text": [
      "Feature 3 working\n"
     ]
    }
   ],
   "source": [
    "check.feature3()"
   ]
  },
  {
   "cell_type": "code",
   "execution_count": 28,
   "metadata": {},
   "outputs": [
    {
     "name": "stdout",
     "output_type": "stream",
     "text": [
      "Feature 1 working\n"
     ]
    }
   ],
   "source": [
    "check.feature1()  #Now you can see that the Class B also contains the features of class A , inherited A to B"
   ]
  },
  {
   "cell_type": "markdown",
   "metadata": {},
   "source": [
    "# Multilevel Inheritance "
   ]
  },
  {
   "cell_type": "markdown",
   "metadata": {},
   "source": [
    "- Single Level\n",
    "- Multiple level \n",
    "- Multiple Inheritance"
   ]
  },
  {
   "cell_type": "code",
   "execution_count": 1,
   "metadata": {},
   "outputs": [],
   "source": [
    "# Define classess\n",
    "class A:\n",
    "    def feature1(self):\n",
    "        print(\"Feature 1 working\")\n",
    "    \n",
    "    def feature2(self):\n",
    "        print(\"Feature 2 working\")\n",
    "        \n",
    "class B:                      #Subclass B  and super class A \n",
    "    def feature3(self):\n",
    "        print(\"Feature 3 working\")\n",
    "        \n",
    "    def feature4(self):\n",
    "        print(\"Feature 4 working\")\n",
    "\n",
    "class C(A,B):\n",
    "    def feature5(self):\n",
    "        print(\"Feature 5 working\")"
   ]
  },
  {
   "cell_type": "code",
   "execution_count": 40,
   "metadata": {},
   "outputs": [],
   "source": [
    "c1=C()"
   ]
  },
  {
   "cell_type": "code",
   "execution_count": 41,
   "metadata": {},
   "outputs": [],
   "source": [
    "# c1. this is called multiple inheritance"
   ]
  },
  {
   "cell_type": "markdown",
   "metadata": {},
   "source": [
    "- Constructor in Inheritance \n",
    "- Method Resolution order "
   ]
  },
  {
   "cell_type": "code",
   "execution_count": 25,
   "metadata": {},
   "outputs": [],
   "source": [
    "# Define classess\n",
    "class A:\n",
    "    \n",
    "    def __init__(self):\n",
    "        print('Check A')\n",
    "    \n",
    "    def feature1(self):\n",
    "        print(\"Feature 1 working\")\n",
    "    \n",
    "    def feature2(self):\n",
    "        print(\"Feature 2 working\")\n",
    "        \n",
    "class B:\n",
    "    \n",
    "    def __init__(self):\n",
    "           #This is to check the init of the Superclass so use super\n",
    "        print('check B')  \n",
    "                                           #Subclass B  and super class A \n",
    "    def feature3(self):\n",
    "        print(\"Feature 3 working\")\n",
    "        \n",
    "    def feature4(self):\n",
    "        print(\"Feature 4 working\")\n",
    "\n",
    "class C(B,A):\n",
    "    def __init__(self):\n",
    "        super().__init__()    #To represent superclass we use super method , if there is same method name then also MRO \n",
    "        print(\"This is C\")\n",
    "        \n",
    "    def feature5(self):\n",
    "        print(\"Feature 5 working\")"
   ]
  },
  {
   "cell_type": "code",
   "execution_count": 26,
   "metadata": {},
   "outputs": [
    {
     "name": "stdout",
     "output_type": "stream",
     "text": [
      "check B\n",
      "This is C\n"
     ]
    }
   ],
   "source": [
    "# Method Resolution Order \n",
    "d1=C() #This is from Left to Right "
   ]
  },
  {
   "cell_type": "code",
   "execution_count": 27,
   "metadata": {},
   "outputs": [
    {
     "name": "stdout",
     "output_type": "stream",
     "text": [
      "check B\n",
      "This is C\n"
     ]
    }
   ],
   "source": [
    "f=C()"
   ]
  },
  {
   "cell_type": "code",
   "execution_count": 30,
   "metadata": {},
   "outputs": [],
   "source": [
    "# Polymorphism in Python , different forms ,one thing behaving in different way \n",
    "# Objects have mulitple forms \n",
    "# There are concepts named Loose Coupling , Interface and Dependency Injection "
   ]
  },
  {
   "cell_type": "markdown",
   "metadata": {},
   "source": [
    "# There are four ways of implementing Polymorphism"
   ]
  },
  {
   "cell_type": "markdown",
   "metadata": {},
   "source": [
    "- Duck Typing : The behaviour of Duck will make it as Duck,behaviour matches with Duck then it is a Duck\n",
    "- Operator Overloading : Whenever using the operator(+,-,/,*) we are calling the method for it \n",
    "- Method Overloading : No two same methods (same name) in a class so define method accordingly to use the defined parameters \n",
    "- Method Overriding : If the subclass has its own method that will be printed/created not the inherited one"
   ]
  },
  {
   "cell_type": "markdown",
   "metadata": {},
   "source": []
  },
  {
   "cell_type": "code",
   "execution_count": 37,
   "metadata": {},
   "outputs": [
    {
     "name": "stdout",
     "output_type": "stream",
     "text": [
      "[1, 2, 3]\n"
     ]
    }
   ],
   "source": [
    "a=[1,2]\n",
    "a.append(3)\n",
    "b=a\n",
    "print(b)"
   ]
  },
  {
   "cell_type": "code",
   "execution_count": 42,
   "metadata": {},
   "outputs": [
    {
     "name": "stdout",
     "output_type": "stream",
     "text": [
      "Spell check\n",
      "Compiling\n"
     ]
    }
   ],
   "source": [
    "# In other programming language this is called Interface\n",
    "class Pycharm:\n",
    "    def execute(self):\n",
    "        print(\"Compiling\")\n",
    "        print(\"Running\")\n",
    "\n",
    "class MyEditor:\n",
    "    def execute(self):\n",
    "        print(\"Spell check\")\n",
    "        print(\"Compiling\")\n",
    "        \n",
    "        \n",
    "class Laptop:\n",
    "    def code(self,ide):\n",
    "        ide.execute()\n",
    " \n",
    "ide = MyEditor()\n",
    "lap1=Laptop()\n",
    "lap1.code(ide)"
   ]
  },
  {
   "cell_type": "code",
   "execution_count": 1,
   "metadata": {},
   "outputs": [],
   "source": [
    "# Operator overloading in Python and Polymorphism\n",
    "# 5 and 6, these are operands \n",
    "# +- these are operators\n",
    "# Whatever happens in Python , is with help of objects \n",
    "# int class , and different methods are present for this int class , it could be add , subtract and anything "
   ]
  },
  {
   "cell_type": "code",
   "execution_count": 3,
   "metadata": {},
   "outputs": [
    {
     "name": "stdout",
     "output_type": "stream",
     "text": [
      "56\n",
      "56\n"
     ]
    }
   ],
   "source": [
    "a='5'\n",
    "b='6'\n",
    "print(a+b)\n",
    "print(str.__add__(a,b))"
   ]
  },
  {
   "cell_type": "code",
   "execution_count": 4,
   "metadata": {},
   "outputs": [],
   "source": [
    "# There are different methods(Magical methods) for different operators # __add__ , __sub__, __mult__"
   ]
  },
  {
   "cell_type": "code",
   "execution_count": 41,
   "metadata": {},
   "outputs": [],
   "source": [
    "# Operator overloading \n",
    "# Method the same but argument is different,here the class student has no method of its own as + so create a method to define it and use the same \n",
    "class student:\n",
    "    \n",
    "    def __init__(self,m1,m2):\n",
    "        self.m1=m1\n",
    "        self.m2=m2\n",
    "        \n",
    "    def __add__(self,other):\n",
    "        m1=self.m1 + other.m1\n",
    "        m2=self.m2 + other.m2\n",
    "        m3=student(m1,m2)\n",
    "        return m3\n",
    "        "
   ]
  },
  {
   "cell_type": "code",
   "execution_count": 32,
   "metadata": {},
   "outputs": [],
   "source": [
    "s1 = student(58,59)\n",
    "s2 = student(30,50)"
   ]
  },
  {
   "cell_type": "code",
   "execution_count": 13,
   "metadata": {},
   "outputs": [
    {
     "data": {
      "text/plain": [
       "88"
      ]
     },
     "execution_count": 13,
     "metadata": {},
     "output_type": "execute_result"
    }
   ],
   "source": [
    "s3=s1+s2\n",
    "s3.m1"
   ]
  },
  {
   "cell_type": "code",
   "execution_count": 19,
   "metadata": {},
   "outputs": [],
   "source": [
    "class student:\n",
    "    \n",
    "    def __init__(self,m1,m2):\n",
    "        self.m1=m1\n",
    "        self.m2=m2\n",
    "        \n",
    "    def __add__(self,other):\n",
    "        m1=self.m1 + other.m1\n",
    "        m2=self.m2 + other.m2\n",
    "        m3=student(m1,m2)\n",
    "        return m3\n",
    "        \n",
    "    def __gt__(self,other):\n",
    "        r1= self.m1+self.m2\n",
    "        r2= other.m1+other.m2\n",
    "        if r1>r2:\n",
    "            return True\n",
    "        else:\n",
    "            return False"
   ]
  },
  {
   "cell_type": "code",
   "execution_count": 25,
   "metadata": {},
   "outputs": [
    {
     "name": "stdout",
     "output_type": "stream",
     "text": [
      "S1 is greater\n"
     ]
    }
   ],
   "source": [
    "if s1>s2:\n",
    "    print(\"S1 is greater\")\n",
    "else:\n",
    "    print(\"S2 is smaller\")"
   ]
  },
  {
   "cell_type": "code",
   "execution_count": 38,
   "metadata": {},
   "outputs": [],
   "source": [
    "\n",
    "class student:\n",
    "    \n",
    "    def __init__(self,m1,m2):\n",
    "        self.m1=m1\n",
    "        self.m2=m2\n",
    "        \n",
    "    def __add__(self,other):\n",
    "        m1=self.m1 + other.m1\n",
    "        m2=self.m2 + other.m2\n",
    "        m3=student(m1,m2)\n",
    "        return m3\n",
    "        \n",
    "    def __gt__(self,other):\n",
    "        r1= self.m1+self.m2\n",
    "        r2= other.m1+other.m2\n",
    "        if r1>r2:\n",
    "            return True\n",
    "        else:\n",
    "            return False\n",
    "        \n",
    "    #ef __str__(self):\n",
    "        return \"{} {}\".format(self.m1,self.m2)"
   ]
  },
  {
   "cell_type": "code",
   "execution_count": 31,
   "metadata": {},
   "outputs": [
    {
     "name": "stdout",
     "output_type": "stream",
     "text": [
      "5\n"
     ]
    }
   ],
   "source": [
    "a=5\n",
    "print(a.__int__())"
   ]
  },
  {
   "cell_type": "code",
   "execution_count": 40,
   "metadata": {},
   "outputs": [
    {
     "name": "stdout",
     "output_type": "stream",
     "text": [
      "58 59\n",
      "30 50\n"
     ]
    }
   ],
   "source": [
    "print(s1.__str__())\n",
    "print(s2)"
   ]
  },
  {
   "cell_type": "code",
   "execution_count": 45,
   "metadata": {},
   "outputs": [],
   "source": [
    "# Method overloading - This is not in Python \n",
    "class student:\n",
    "    \n",
    "    def __init__(self,m1,m2):\n",
    "        self.m1=m1\n",
    "        self.m2=m2\n",
    "        \n",
    "    def sum(self,a=None,b=None,c=None):   # add many thing in method so doing method overloading\n",
    "        s=0\n",
    "        \n",
    "        if a!=None and b!=None and c!=None :\n",
    "            s=a+b+c\n",
    "        elif a!=None and b!=None :\n",
    "            s=a+b\n",
    "        else:\n",
    "            s=a\n",
    "            \n",
    "        return s\n",
    "                "
   ]
  },
  {
   "cell_type": "code",
   "execution_count": 56,
   "metadata": {},
   "outputs": [
    {
     "name": "stdout",
     "output_type": "stream",
     "text": [
      "9\n"
     ]
    }
   ],
   "source": [
    "check=student(3,2)\n",
    "print(check.sum(4,5))"
   ]
  },
  {
   "cell_type": "code",
   "execution_count": 82,
   "metadata": {},
   "outputs": [],
   "source": [
    "# Method Overriding - This is very important in the Software Industry \n",
    "class A:                     #Parent\n",
    "    \n",
    "    def show(self):\n",
    "        print(\"I am in show\")\n",
    "        \n",
    "class B(A):\n",
    "    pass\n",
    "    #child\n",
    "class C(A):                   #if subclass has that it will use that one\n",
    "    def show(self):\n",
    "        print(\"I am in C\")\n",
    "    \n",
    "        \n",
    "\n"
   ]
  },
  {
   "cell_type": "code",
   "execution_count": 83,
   "metadata": {},
   "outputs": [],
   "source": [
    "a1=A()\n",
    "a2=B()\n",
    "a3=C() #This is the subclass which has the method with it"
   ]
  },
  {
   "cell_type": "code",
   "execution_count": 84,
   "metadata": {},
   "outputs": [
    {
     "name": "stdout",
     "output_type": "stream",
     "text": [
      "I am in show\n",
      "I am in show\n",
      "I am in C\n"
     ]
    }
   ],
   "source": [
    "a1.show()\n",
    "a2.show()\n",
    "a3.show()"
   ]
  }
 ],
 "metadata": {
  "kernelspec": {
   "display_name": "Python 3",
   "language": "python",
   "name": "python3"
  },
  "language_info": {
   "codemirror_mode": {
    "name": "ipython",
    "version": 3
   },
   "file_extension": ".py",
   "mimetype": "text/x-python",
   "name": "python",
   "nbconvert_exporter": "python",
   "pygments_lexer": "ipython3",
   "version": "3.7.6"
  }
 },
 "nbformat": 4,
 "nbformat_minor": 4
}
